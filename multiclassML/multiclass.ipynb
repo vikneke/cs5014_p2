{
 "cells": [
  {
   "cell_type": "code",
   "execution_count": 385,
   "metadata": {},
   "outputs": [],
   "source": [
    "import pandas as pd\n",
    "import numpy as np\n",
    "import matplotlib.pyplot as plt\n",
    "import sklearn as skl\n",
    "\n",
    "from sklearn.cross_validation import train_test_split\n",
    "from sklearn.metrics import confusion_matrix, accuracy_score, classification_report\n",
    "from sklearn import linear_model, cross_validation\n",
    "from sklearn.feature_selection import RFE\n",
    "from sklearn import preprocessing\n",
    "\n",
    "logistic_regression = linear_model.LogisticRegression()"
   ]
  },
  {
   "cell_type": "markdown",
   "metadata": {},
   "source": [
    "### Load data files "
   ]
  },
  {
   "cell_type": "code",
   "execution_count": 386,
   "metadata": {},
   "outputs": [],
   "source": [
    "waves = pd.read_csv('../multiclass/Wavelength.csv', header=None)\n",
    "x = pd.read_csv('../multiclass/X.csv', header=None)\n",
    "y = pd.read_csv('../multiclass/y.csv', header=None)"
   ]
  },
  {
   "cell_type": "markdown",
   "metadata": {},
   "source": [
    "### Setting key colour values"
   ]
  },
  {
   "cell_type": "code",
   "execution_count": 387,
   "metadata": {},
   "outputs": [],
   "source": [
    "def decode_colours(toDecode):\n",
    "    keys = {0: 'Blue', 1: 'Green', 2: 'Pink', 3: 'Red', 4: 'Yellow'}\n",
    "\n",
    "    res = []\n",
    "    for i in toDecode:\n",
    "        res.append(keys[i])\n",
    "        \n",
    "    return res"
   ]
  },
  {
   "cell_type": "markdown",
   "metadata": {},
   "source": [
    "### Set up plot parameters "
   ]
  },
  {
   "cell_type": "code",
   "execution_count": 388,
   "metadata": {},
   "outputs": [],
   "source": [
    "def plot_parameters(x, y):\n",
    "    fig_size = plt.rcParams[\"figure.figsize\"]\n",
    "    fig_size[0] = x\n",
    "    fig_size[1] = y\n",
    "    plt.rcParams[\"figure.figsize\"] = fig_size"
   ]
  },
  {
   "cell_type": "code",
   "execution_count": null,
   "metadata": {},
   "outputs": [],
   "source": []
  },
  {
   "cell_type": "code",
   "execution_count": 390,
   "metadata": {},
   "outputs": [
    {
     "name": "stdout",
     "output_type": "stream",
     "text": [
      "921 414450 450\n"
     ]
    }
   ],
   "source": [
    "print(waves.size, x.size, y.size)"
   ]
  },
  {
   "cell_type": "markdown",
   "metadata": {},
   "source": [
    "### Drop records with NaN values if any exists"
   ]
  },
  {
   "cell_type": "code",
   "execution_count": 371,
   "metadata": {},
   "outputs": [],
   "source": [
    "# Drop all rows that have NaN values\n",
    "def drop_nan(waves, x, y):\n",
    "    waves.dropna()\n",
    "    x.dropna()\n",
    "    y.dropna()\n",
    "    \n",
    "drop_nan(waves, x, y)"
   ]
  },
  {
   "cell_type": "markdown",
   "metadata": {},
   "source": [
    "### Split data into training and testing sets "
   ]
  },
  {
   "cell_type": "code",
   "execution_count": 392,
   "metadata": {
    "scrolled": false
   },
   "outputs": [
    {
     "name": "stdout",
     "output_type": "stream",
     "text": [
      "290115 315\n",
      "124335 135\n"
     ]
    }
   ],
   "source": [
    "flat_waves = waves.T.as_matrix(columns=None).flatten()\n",
    "x_train, x_test, y_train, y_test  = train_test_split(x, y, test_size=0.3, random_state=42)\n",
    "\n",
    "print(x_train.size, y_train.size)\n",
    "print(x_test.size, y_test.size)"
   ]
  },
  {
   "cell_type": "code",
   "execution_count": 393,
   "metadata": {},
   "outputs": [
    {
     "data": {
      "text/html": [
       "<div>\n",
       "<style scoped>\n",
       "    .dataframe tbody tr th:only-of-type {\n",
       "        vertical-align: middle;\n",
       "    }\n",
       "\n",
       "    .dataframe tbody tr th {\n",
       "        vertical-align: top;\n",
       "    }\n",
       "\n",
       "    .dataframe thead th {\n",
       "        text-align: right;\n",
       "    }\n",
       "</style>\n",
       "<table border=\"1\" class=\"dataframe\">\n",
       "  <thead>\n",
       "    <tr style=\"text-align: right;\">\n",
       "      <th></th>\n",
       "      <th>0</th>\n",
       "      <th>1</th>\n",
       "      <th>2</th>\n",
       "      <th>3</th>\n",
       "      <th>4</th>\n",
       "      <th>5</th>\n",
       "      <th>6</th>\n",
       "      <th>7</th>\n",
       "      <th>8</th>\n",
       "      <th>9</th>\n",
       "      <th>...</th>\n",
       "      <th>911</th>\n",
       "      <th>912</th>\n",
       "      <th>913</th>\n",
       "      <th>914</th>\n",
       "      <th>915</th>\n",
       "      <th>916</th>\n",
       "      <th>917</th>\n",
       "      <th>918</th>\n",
       "      <th>919</th>\n",
       "      <th>920</th>\n",
       "    </tr>\n",
       "  </thead>\n",
       "  <tbody>\n",
       "    <tr>\n",
       "      <th>count</th>\n",
       "      <td>315.000000</td>\n",
       "      <td>315.000000</td>\n",
       "      <td>315.000000</td>\n",
       "      <td>315.000000</td>\n",
       "      <td>315.000000</td>\n",
       "      <td>315.000000</td>\n",
       "      <td>315.000000</td>\n",
       "      <td>315.000000</td>\n",
       "      <td>315.000000</td>\n",
       "      <td>315.000000</td>\n",
       "      <td>...</td>\n",
       "      <td>315.00000</td>\n",
       "      <td>315.000000</td>\n",
       "      <td>315.000000</td>\n",
       "      <td>315.000000</td>\n",
       "      <td>315.000000</td>\n",
       "      <td>315.000000</td>\n",
       "      <td>315.000000</td>\n",
       "      <td>315.000000</td>\n",
       "      <td>315.000000</td>\n",
       "      <td>315.000000</td>\n",
       "    </tr>\n",
       "    <tr>\n",
       "      <th>mean</th>\n",
       "      <td>-0.962857</td>\n",
       "      <td>35.686952</td>\n",
       "      <td>-29.448984</td>\n",
       "      <td>36.589302</td>\n",
       "      <td>24.104952</td>\n",
       "      <td>-17.861778</td>\n",
       "      <td>4.987587</td>\n",
       "      <td>25.016603</td>\n",
       "      <td>6.011048</td>\n",
       "      <td>27.987683</td>\n",
       "      <td>...</td>\n",
       "      <td>25.00600</td>\n",
       "      <td>7.542635</td>\n",
       "      <td>15.849175</td>\n",
       "      <td>1.488476</td>\n",
       "      <td>18.300603</td>\n",
       "      <td>-2.988698</td>\n",
       "      <td>11.495143</td>\n",
       "      <td>8.995810</td>\n",
       "      <td>14.925651</td>\n",
       "      <td>34.256413</td>\n",
       "    </tr>\n",
       "    <tr>\n",
       "      <th>std</th>\n",
       "      <td>28.792072</td>\n",
       "      <td>39.186474</td>\n",
       "      <td>41.711323</td>\n",
       "      <td>17.475934</td>\n",
       "      <td>20.484712</td>\n",
       "      <td>24.453233</td>\n",
       "      <td>29.997530</td>\n",
       "      <td>26.111602</td>\n",
       "      <td>25.554519</td>\n",
       "      <td>23.702876</td>\n",
       "      <td>...</td>\n",
       "      <td>30.80835</td>\n",
       "      <td>35.663155</td>\n",
       "      <td>38.686184</td>\n",
       "      <td>42.754077</td>\n",
       "      <td>43.466269</td>\n",
       "      <td>53.776949</td>\n",
       "      <td>39.386215</td>\n",
       "      <td>37.857629</td>\n",
       "      <td>28.619245</td>\n",
       "      <td>25.528319</td>\n",
       "    </tr>\n",
       "    <tr>\n",
       "      <th>min</th>\n",
       "      <td>-74.140000</td>\n",
       "      <td>-92.590000</td>\n",
       "      <td>-132.000000</td>\n",
       "      <td>-12.860000</td>\n",
       "      <td>-32.810000</td>\n",
       "      <td>-84.620000</td>\n",
       "      <td>-72.790000</td>\n",
       "      <td>-64.190000</td>\n",
       "      <td>-79.430000</td>\n",
       "      <td>-44.400000</td>\n",
       "      <td>...</td>\n",
       "      <td>-32.68000</td>\n",
       "      <td>-57.770000</td>\n",
       "      <td>-57.650000</td>\n",
       "      <td>-74.730000</td>\n",
       "      <td>-55.770000</td>\n",
       "      <td>-92.670000</td>\n",
       "      <td>-60.730000</td>\n",
       "      <td>-73.420000</td>\n",
       "      <td>-38.540000</td>\n",
       "      <td>-15.760000</td>\n",
       "    </tr>\n",
       "    <tr>\n",
       "      <th>25%</th>\n",
       "      <td>-20.355000</td>\n",
       "      <td>9.185000</td>\n",
       "      <td>-57.185000</td>\n",
       "      <td>26.460000</td>\n",
       "      <td>10.025000</td>\n",
       "      <td>-35.300000</td>\n",
       "      <td>-16.285000</td>\n",
       "      <td>7.025000</td>\n",
       "      <td>-11.325000</td>\n",
       "      <td>11.795000</td>\n",
       "      <td>...</td>\n",
       "      <td>-4.84500</td>\n",
       "      <td>-28.365000</td>\n",
       "      <td>-22.080000</td>\n",
       "      <td>-43.660000</td>\n",
       "      <td>-27.035000</td>\n",
       "      <td>-57.745000</td>\n",
       "      <td>-25.620000</td>\n",
       "      <td>-27.515000</td>\n",
       "      <td>-13.250000</td>\n",
       "      <td>8.975000</td>\n",
       "    </tr>\n",
       "    <tr>\n",
       "      <th>50%</th>\n",
       "      <td>-0.730000</td>\n",
       "      <td>38.670000</td>\n",
       "      <td>-29.930000</td>\n",
       "      <td>36.210000</td>\n",
       "      <td>24.200000</td>\n",
       "      <td>-18.500000</td>\n",
       "      <td>4.700000</td>\n",
       "      <td>25.210000</td>\n",
       "      <td>5.040000</td>\n",
       "      <td>27.800000</td>\n",
       "      <td>...</td>\n",
       "      <td>34.34000</td>\n",
       "      <td>17.990000</td>\n",
       "      <td>29.060000</td>\n",
       "      <td>18.510000</td>\n",
       "      <td>32.070000</td>\n",
       "      <td>10.760000</td>\n",
       "      <td>24.050000</td>\n",
       "      <td>16.960000</td>\n",
       "      <td>24.340000</td>\n",
       "      <td>40.180000</td>\n",
       "    </tr>\n",
       "    <tr>\n",
       "      <th>75%</th>\n",
       "      <td>17.030000</td>\n",
       "      <td>59.335000</td>\n",
       "      <td>-1.190000</td>\n",
       "      <td>47.460000</td>\n",
       "      <td>38.380000</td>\n",
       "      <td>-2.730000</td>\n",
       "      <td>26.285000</td>\n",
       "      <td>43.535000</td>\n",
       "      <td>22.650000</td>\n",
       "      <td>43.385000</td>\n",
       "      <td>...</td>\n",
       "      <td>52.59000</td>\n",
       "      <td>38.960000</td>\n",
       "      <td>50.860000</td>\n",
       "      <td>37.965000</td>\n",
       "      <td>55.885000</td>\n",
       "      <td>42.765000</td>\n",
       "      <td>45.130000</td>\n",
       "      <td>43.140000</td>\n",
       "      <td>40.210000</td>\n",
       "      <td>56.835000</td>\n",
       "    </tr>\n",
       "    <tr>\n",
       "      <th>max</th>\n",
       "      <td>73.420000</td>\n",
       "      <td>157.780000</td>\n",
       "      <td>99.110000</td>\n",
       "      <td>97.300000</td>\n",
       "      <td>77.880000</td>\n",
       "      <td>49.170000</td>\n",
       "      <td>85.030000</td>\n",
       "      <td>111.630000</td>\n",
       "      <td>109.890000</td>\n",
       "      <td>109.440000</td>\n",
       "      <td>...</td>\n",
       "      <td>76.94000</td>\n",
       "      <td>71.670000</td>\n",
       "      <td>80.710000</td>\n",
       "      <td>75.300000</td>\n",
       "      <td>93.980000</td>\n",
       "      <td>113.160000</td>\n",
       "      <td>86.910000</td>\n",
       "      <td>78.080000</td>\n",
       "      <td>64.590000</td>\n",
       "      <td>89.020000</td>\n",
       "    </tr>\n",
       "  </tbody>\n",
       "</table>\n",
       "<p>8 rows × 921 columns</p>\n",
       "</div>"
      ],
      "text/plain": [
       "              0           1           2           3           4           5    \\\n",
       "count  315.000000  315.000000  315.000000  315.000000  315.000000  315.000000   \n",
       "mean    -0.962857   35.686952  -29.448984   36.589302   24.104952  -17.861778   \n",
       "std     28.792072   39.186474   41.711323   17.475934   20.484712   24.453233   \n",
       "min    -74.140000  -92.590000 -132.000000  -12.860000  -32.810000  -84.620000   \n",
       "25%    -20.355000    9.185000  -57.185000   26.460000   10.025000  -35.300000   \n",
       "50%     -0.730000   38.670000  -29.930000   36.210000   24.200000  -18.500000   \n",
       "75%     17.030000   59.335000   -1.190000   47.460000   38.380000   -2.730000   \n",
       "max     73.420000  157.780000   99.110000   97.300000   77.880000   49.170000   \n",
       "\n",
       "              6           7           8           9       ...            911  \\\n",
       "count  315.000000  315.000000  315.000000  315.000000     ...      315.00000   \n",
       "mean     4.987587   25.016603    6.011048   27.987683     ...       25.00600   \n",
       "std     29.997530   26.111602   25.554519   23.702876     ...       30.80835   \n",
       "min    -72.790000  -64.190000  -79.430000  -44.400000     ...      -32.68000   \n",
       "25%    -16.285000    7.025000  -11.325000   11.795000     ...       -4.84500   \n",
       "50%      4.700000   25.210000    5.040000   27.800000     ...       34.34000   \n",
       "75%     26.285000   43.535000   22.650000   43.385000     ...       52.59000   \n",
       "max     85.030000  111.630000  109.890000  109.440000     ...       76.94000   \n",
       "\n",
       "              912         913         914         915         916         917  \\\n",
       "count  315.000000  315.000000  315.000000  315.000000  315.000000  315.000000   \n",
       "mean     7.542635   15.849175    1.488476   18.300603   -2.988698   11.495143   \n",
       "std     35.663155   38.686184   42.754077   43.466269   53.776949   39.386215   \n",
       "min    -57.770000  -57.650000  -74.730000  -55.770000  -92.670000  -60.730000   \n",
       "25%    -28.365000  -22.080000  -43.660000  -27.035000  -57.745000  -25.620000   \n",
       "50%     17.990000   29.060000   18.510000   32.070000   10.760000   24.050000   \n",
       "75%     38.960000   50.860000   37.965000   55.885000   42.765000   45.130000   \n",
       "max     71.670000   80.710000   75.300000   93.980000  113.160000   86.910000   \n",
       "\n",
       "              918         919         920  \n",
       "count  315.000000  315.000000  315.000000  \n",
       "mean     8.995810   14.925651   34.256413  \n",
       "std     37.857629   28.619245   25.528319  \n",
       "min    -73.420000  -38.540000  -15.760000  \n",
       "25%    -27.515000  -13.250000    8.975000  \n",
       "50%     16.960000   24.340000   40.180000  \n",
       "75%     43.140000   40.210000   56.835000  \n",
       "max     78.080000   64.590000   89.020000  \n",
       "\n",
       "[8 rows x 921 columns]"
      ]
     },
     "execution_count": 393,
     "metadata": {},
     "output_type": "execute_result"
    }
   ],
   "source": [
    "x_train.describe()"
   ]
  },
  {
   "cell_type": "markdown",
   "metadata": {},
   "source": [
    "### Plot features "
   ]
  },
  {
   "cell_type": "code",
   "execution_count": 382,
   "metadata": {
    "scrolled": false
   },
   "outputs": [],
   "source": [
    "def plot_training_data(x_train, y_train, waves):\n",
    "#     plot_parameters(30, 10)\n",
    "    index = 0\n",
    "    y_train = y_train.as_matrix(columns=None)\n",
    "    \n",
    "    for ind, row in x_train.iterrows():\n",
    "        if y_train[index] == 0:\n",
    "            plt.plot(x_train.columns.values, row, color=\"blue\")\n",
    "        elif y_train[index] == 1:\n",
    "            plt.plot(x_train.columns.values, row, color=\"lightgreen\")\n",
    "        elif y_train[index] == 2:\n",
    "            plt.plot(x_train.columns.values, row, color=\"hotpink\")\n",
    "        elif y_train[index] == 3:\n",
    "            plt.plot(x_train.columns.values, row, color=\"indianred\")\n",
    "        elif y_train[index] == 4:\n",
    "            plt.plot(x_train.columns.values, row, color=\"yellow\")    \n",
    "        index += 1\n",
    "    \n",
    "    plt.xlabel(\"Feature index\", fontdict=None, labelpad=None, fontsize=12)\n",
    "    plt.ylabel(\"Optical reflectance intensity\", fontdict=None, labelpad=None, fontsize=12)\n",
    "    plt.yticks([-150, -100, -50, 0, 50, 100, 150], fontsize=12)  \n",
    "    plt.xticks([0, 100, 200, 300, 400, 500, 600, 700, 800, 900], fontsize=12)  \n",
    "    plt.xlim(xmin=0, xmax=921)\n",
    "\n",
    "#     plt.axvspan(576, 577, color='grey', alpha=0.5)\n",
    "    # plt.axvspan(513, 514, color='grey', alpha=0.5)\n",
    "\n",
    "    plt.show()"
   ]
  },
  {
   "cell_type": "code",
   "execution_count": 383,
   "metadata": {},
   "outputs": [
    {
     "ename": "AttributeError",
     "evalue": "'numpy.ndarray' object has no attribute 'iterrows'",
     "output_type": "error",
     "traceback": [
      "\u001b[0;31m---------------------------------------------------------------------------\u001b[0m",
      "\u001b[0;31mAttributeError\u001b[0m                            Traceback (most recent call last)",
      "\u001b[0;32m<ipython-input-383-e1cff987d2b3>\u001b[0m in \u001b[0;36m<module>\u001b[0;34m()\u001b[0m\n\u001b[0;32m----> 1\u001b[0;31m \u001b[0mplot_training_data\u001b[0m\u001b[0;34m(\u001b[0m\u001b[0mx_train\u001b[0m\u001b[0;34m,\u001b[0m \u001b[0my_train\u001b[0m\u001b[0;34m,\u001b[0m \u001b[0mflat_waves\u001b[0m\u001b[0;34m)\u001b[0m\u001b[0;34m\u001b[0m\u001b[0m\n\u001b[0m",
      "\u001b[0;32m<ipython-input-382-848b315e59c6>\u001b[0m in \u001b[0;36mplot_training_data\u001b[0;34m(x_train, y_train, waves)\u001b[0m\n\u001b[1;32m      4\u001b[0m     \u001b[0my_train\u001b[0m \u001b[0;34m=\u001b[0m \u001b[0my_train\u001b[0m\u001b[0;34m.\u001b[0m\u001b[0mas_matrix\u001b[0m\u001b[0;34m(\u001b[0m\u001b[0mcolumns\u001b[0m\u001b[0;34m=\u001b[0m\u001b[0;32mNone\u001b[0m\u001b[0;34m)\u001b[0m\u001b[0;34m\u001b[0m\u001b[0m\n\u001b[1;32m      5\u001b[0m \u001b[0;34m\u001b[0m\u001b[0m\n\u001b[0;32m----> 6\u001b[0;31m     \u001b[0;32mfor\u001b[0m \u001b[0mind\u001b[0m\u001b[0;34m,\u001b[0m \u001b[0mrow\u001b[0m \u001b[0;32min\u001b[0m \u001b[0mx_train\u001b[0m\u001b[0;34m.\u001b[0m\u001b[0miterrows\u001b[0m\u001b[0;34m(\u001b[0m\u001b[0;34m)\u001b[0m\u001b[0;34m:\u001b[0m\u001b[0;34m\u001b[0m\u001b[0m\n\u001b[0m\u001b[1;32m      7\u001b[0m         \u001b[0;32mif\u001b[0m \u001b[0my_train\u001b[0m\u001b[0;34m[\u001b[0m\u001b[0mindex\u001b[0m\u001b[0;34m]\u001b[0m \u001b[0;34m==\u001b[0m \u001b[0;36m0\u001b[0m\u001b[0;34m:\u001b[0m\u001b[0;34m\u001b[0m\u001b[0m\n\u001b[1;32m      8\u001b[0m             \u001b[0mplt\u001b[0m\u001b[0;34m.\u001b[0m\u001b[0mplot\u001b[0m\u001b[0;34m(\u001b[0m\u001b[0mx_train\u001b[0m\u001b[0;34m.\u001b[0m\u001b[0mcolumns\u001b[0m\u001b[0;34m.\u001b[0m\u001b[0mvalues\u001b[0m\u001b[0;34m,\u001b[0m \u001b[0mrow\u001b[0m\u001b[0;34m,\u001b[0m \u001b[0mcolor\u001b[0m\u001b[0;34m=\u001b[0m\u001b[0;34m\"blue\"\u001b[0m\u001b[0;34m)\u001b[0m\u001b[0;34m\u001b[0m\u001b[0m\n",
      "\u001b[0;31mAttributeError\u001b[0m: 'numpy.ndarray' object has no attribute 'iterrows'"
     ]
    }
   ],
   "source": [
    "plot_training_data(x_train, y_train, flat_waves)"
   ]
  },
  {
   "cell_type": "code",
   "execution_count": 319,
   "metadata": {
    "scrolled": false
   },
   "outputs": [],
   "source": [
    "def plot_histogram(feature_index, x_train, y_train):\n",
    "    plot_parameters(10, 10)\n",
    "    blue = []\n",
    "    green = []\n",
    "    pink = []\n",
    "    red = []\n",
    "    yellow = []\n",
    "\n",
    "    y_train = y_train.as_matrix(columns=None)\n",
    "\n",
    "    index = 0\n",
    "    for i in x_train[feature_index]:\n",
    "        if y_train[index] == 0:\n",
    "            blue.append(i)\n",
    "        elif y_train[index] == 1:\n",
    "            green.append(i)\n",
    "        elif y_train[index] == 2:\n",
    "            pink.append(i)\n",
    "        elif y_train[index] == 3:\n",
    "            red.append(i)\n",
    "        elif y_train[index] == 4:\n",
    "            yellow.append(i)\n",
    "        index += 1\n",
    "\n",
    "    plt.xlabel(\"Intencity values\", fontdict=None, labelpad=None, fontsize=12)\n",
    "    plt.ylabel(\"Number of intencity values\", fontdict=None, labelpad=None, fontsize=12)\n",
    "    # plt.hist([blue, green, pink, red], 100, alpha=1, color=[\"blue\", \"lightgreen\", \"pink\", \"red\"])\n",
    "\n",
    "    plt.hist([pink], 5, alpha=0.8, color=[\"pink\"])\n",
    "    plt.hist([blue], 5, alpha=0.8, color=[\"blue\"])\n",
    "    plt.hist([green], 5, alpha=0.8, color=[\"lightgreen\"])\n",
    "    plt.hist([red], 5, alpha=0.8, color=[\"indianred\"])\n",
    "    plt.hist([yellow], 5, alpha=0.8, color=[\"yellow\"])\n",
    "\n",
    "    plt.show()"
   ]
  },
  {
   "cell_type": "code",
   "execution_count": 320,
   "metadata": {},
   "outputs": [
    {
     "data": {
      "image/png": "[encoded data removed]",
      "text/plain": [
       "<matplotlib.figure.Figure at 0x123c002e8>"
      ]
     },
     "metadata": {},
     "output_type": "display_data"
    },
    {
     "data": {
      "image/png": "[encoded data removed]",
      "text/plain": [
       "<matplotlib.figure.Figure at 0x123c20be0>"
      ]
     },
     "metadata": {},
     "output_type": "display_data"
    }
   ],
   "source": [
    "plot_histogram(400, x_train, y_train)\n",
    "plot_histogram(900, x_train, y_train)"
   ]
  },
  {
   "cell_type": "code",
   "execution_count": 240,
   "metadata": {},
   "outputs": [],
   "source": [
    "def one_feature_experiment(x_train, y_train):\n",
    "    accuracies = []\n",
    "    \n",
    "    for i in x_train:\n",
    "        x_one = x_train[i].values.reshape(-1, 1)\n",
    "        logistic_regression.fit(x_one, y_train)\n",
    "        y_res = logistic_regression.predict(x_one)\n",
    "        accuracies.append(accuracy_score(y_train, y_res))\n",
    "\n",
    "    return accuracies"
   ]
  },
  {
   "cell_type": "code",
   "execution_count": null,
   "metadata": {},
   "outputs": [],
   "source": [
    "def plot_one_feature_exp_results(acc):\n",
    "    plot_parameters(30, 10)\n",
    "    plt.xlabel(\"Feature index\", fontdict=None, labelpad=None, fontsize=12)\n",
    "    plt.ylabel(\"Accuracy\", fontdict=None, labelpad=None, fontsize=12)\n",
    "    plt.yticks(fontsize=12)\n",
    "    plt.xticks([0, 100, 200, 300, 400, 500, 600, 700, 800, 900], fontsize=12)  \n",
    "    plt.xlim(xmin=0, xmax=921)\n",
    "    \n",
    "    index = 0\n",
    "    for i in acc:\n",
    "        if i > 0.9:\n",
    "            plt.axvspan(index, index, color='pink', alpha=0.8)\n",
    "        elif i > 0.8:\n",
    "            plt.axvspan(index, index, color='pink', alpha=0.6)\n",
    "        elif i > 0.7:\n",
    "            plt.axvspan(index, index, color='pink', alpha=0.4)\n",
    "        elif i > 0.6:\n",
    "            plt.axvspan(index, index, color='pink', alpha=0.2)\n",
    "        elif i > 0.5:\n",
    "            plt.axvspan(index, index, color='pink', alpha=0.1)\n",
    "        index += 1\n",
    "        \n",
    "    plt.plot(acc)"
   ]
  },
  {
   "cell_type": "code",
   "execution_count": null,
   "metadata": {},
   "outputs": [],
   "source": [
    "acc = one_feature_experiment(x_train, y_train)\n",
    "plot_one_feature_exp_results(acc)"
   ]
  },
  {
   "cell_type": "code",
   "execution_count": null,
   "metadata": {},
   "outputs": [],
   "source": [
    "def get_true_indices(matrix):\n",
    "    indices = []\n",
    "    index = 0\n",
    "    for i in matrix:\n",
    "        if i == True:\n",
    "            indices.append(index)\n",
    "        index += 1\n",
    "    return indices"
   ]
  },
  {
   "cell_type": "code",
   "execution_count": 35,
   "metadata": {},
   "outputs": [],
   "source": [
    "def experiment(no_features):\n",
    "    results = []\n",
    "    \n",
    "    for i in no_features:\n",
    "        logistic = RFE(logistic_regression, i, step=1)\n",
    "        logistic = logistic.fit(x_train, y_train)\n",
    "        \n",
    "        print(get_true_indices(logistic.support_))\n",
    "        \n",
    "        y_res = logistic.predict(x_train)\n",
    "        accuracy = accuracy_score(y_train, y_res.ravel())\n",
    "        \n",
    "        print(accuracy)\n",
    "        \n",
    "        results.append(accuracy)\n",
    "        \n",
    "    return results"
   ]
  },
  {
   "cell_type": "code",
   "execution_count": 36,
   "metadata": {},
   "outputs": [
    {
     "name": "stderr",
     "output_type": "stream",
     "text": [
      "/usr/local/Cellar/python3/3.6.4_2/Frameworks/Python.framework/Versions/3.6/lib/python3.6/site-packages/sklearn/utils/validation.py:578: DataConversionWarning: A column-vector y was passed when a 1d array was expected. Please change the shape of y to (n_samples, ), for example using ravel().\n",
      "  y = column_or_1d(y, warn=True)\n"
     ]
    },
    {
     "name": "stdout",
     "output_type": "stream",
     "text": [
      "[421]\n",
      "0.8095238095238095\n"
     ]
    },
    {
     "name": "stderr",
     "output_type": "stream",
     "text": [
      "/usr/local/Cellar/python3/3.6.4_2/Frameworks/Python.framework/Versions/3.6/lib/python3.6/site-packages/sklearn/utils/validation.py:578: DataConversionWarning: A column-vector y was passed when a 1d array was expected. Please change the shape of y to (n_samples, ), for example using ravel().\n",
      "  y = column_or_1d(y, warn=True)\n"
     ]
    },
    {
     "name": "stdout",
     "output_type": "stream",
     "text": [
      "[421, 429]\n",
      "0.8507936507936508\n"
     ]
    },
    {
     "name": "stderr",
     "output_type": "stream",
     "text": [
      "/usr/local/Cellar/python3/3.6.4_2/Frameworks/Python.framework/Versions/3.6/lib/python3.6/site-packages/sklearn/utils/validation.py:578: DataConversionWarning: A column-vector y was passed when a 1d array was expected. Please change the shape of y to (n_samples, ), for example using ravel().\n",
      "  y = column_or_1d(y, warn=True)\n"
     ]
    },
    {
     "name": "stdout",
     "output_type": "stream",
     "text": [
      "[250, 421, 429]\n",
      "0.9968253968253968\n"
     ]
    },
    {
     "name": "stderr",
     "output_type": "stream",
     "text": [
      "/usr/local/Cellar/python3/3.6.4_2/Frameworks/Python.framework/Versions/3.6/lib/python3.6/site-packages/sklearn/utils/validation.py:578: DataConversionWarning: A column-vector y was passed when a 1d array was expected. Please change the shape of y to (n_samples, ), for example using ravel().\n",
      "  y = column_or_1d(y, warn=True)\n"
     ]
    },
    {
     "name": "stdout",
     "output_type": "stream",
     "text": [
      "[250, 251, 421, 429]\n",
      "0.9968253968253968\n"
     ]
    },
    {
     "name": "stderr",
     "output_type": "stream",
     "text": [
      "/usr/local/Cellar/python3/3.6.4_2/Frameworks/Python.framework/Versions/3.6/lib/python3.6/site-packages/sklearn/utils/validation.py:578: DataConversionWarning: A column-vector y was passed when a 1d array was expected. Please change the shape of y to (n_samples, ), for example using ravel().\n",
      "  y = column_or_1d(y, warn=True)\n"
     ]
    },
    {
     "name": "stdout",
     "output_type": "stream",
     "text": [
      "[86, 250, 251, 421, 429]\n",
      "1.0\n"
     ]
    },
    {
     "name": "stderr",
     "output_type": "stream",
     "text": [
      "/usr/local/Cellar/python3/3.6.4_2/Frameworks/Python.framework/Versions/3.6/lib/python3.6/site-packages/sklearn/utils/validation.py:578: DataConversionWarning: A column-vector y was passed when a 1d array was expected. Please change the shape of y to (n_samples, ), for example using ravel().\n",
      "  y = column_or_1d(y, warn=True)\n"
     ]
    },
    {
     "name": "stdout",
     "output_type": "stream",
     "text": [
      "[86, 250, 251, 421, 429, 586]\n",
      "1.0\n"
     ]
    },
    {
     "name": "stderr",
     "output_type": "stream",
     "text": [
      "/usr/local/Cellar/python3/3.6.4_2/Frameworks/Python.framework/Versions/3.6/lib/python3.6/site-packages/sklearn/utils/validation.py:578: DataConversionWarning: A column-vector y was passed when a 1d array was expected. Please change the shape of y to (n_samples, ), for example using ravel().\n",
      "  y = column_or_1d(y, warn=True)\n"
     ]
    },
    {
     "name": "stdout",
     "output_type": "stream",
     "text": [
      "[86, 88, 250, 251, 421, 429, 586]\n",
      "1.0\n"
     ]
    },
    {
     "name": "stderr",
     "output_type": "stream",
     "text": [
      "/usr/local/Cellar/python3/3.6.4_2/Frameworks/Python.framework/Versions/3.6/lib/python3.6/site-packages/sklearn/utils/validation.py:578: DataConversionWarning: A column-vector y was passed when a 1d array was expected. Please change the shape of y to (n_samples, ), for example using ravel().\n",
      "  y = column_or_1d(y, warn=True)\n"
     ]
    },
    {
     "name": "stdout",
     "output_type": "stream",
     "text": [
      "[66, 86, 88, 250, 251, 421, 429, 586]\n",
      "1.0\n"
     ]
    },
    {
     "name": "stderr",
     "output_type": "stream",
     "text": [
      "/usr/local/Cellar/python3/3.6.4_2/Frameworks/Python.framework/Versions/3.6/lib/python3.6/site-packages/sklearn/utils/validation.py:578: DataConversionWarning: A column-vector y was passed when a 1d array was expected. Please change the shape of y to (n_samples, ), for example using ravel().\n",
      "  y = column_or_1d(y, warn=True)\n"
     ]
    },
    {
     "name": "stdout",
     "output_type": "stream",
     "text": [
      "[66, 86, 88, 250, 251, 421, 429, 584, 586]\n",
      "1.0\n"
     ]
    },
    {
     "name": "stderr",
     "output_type": "stream",
     "text": [
      "/usr/local/Cellar/python3/3.6.4_2/Frameworks/Python.framework/Versions/3.6/lib/python3.6/site-packages/sklearn/utils/validation.py:578: DataConversionWarning: A column-vector y was passed when a 1d array was expected. Please change the shape of y to (n_samples, ), for example using ravel().\n",
      "  y = column_or_1d(y, warn=True)\n"
     ]
    },
    {
     "name": "stdout",
     "output_type": "stream",
     "text": [
      "[66, 86, 88, 250, 251, 421, 429, 584, 586, 914]\n",
      "1.0\n",
      "[0.8095238095238095, 0.8507936507936508, 0.9968253968253968, 0.9968253968253968, 1.0, 1.0, 1.0, 1.0, 1.0, 1.0]\n"
     ]
    }
   ],
   "source": [
    "scores = experiment([1, 2, 3, 4, 5, 6, 7, 8, 9, 10])\n",
    "print(scores)"
   ]
  },
  {
   "cell_type": "code",
   "execution_count": 110,
   "metadata": {},
   "outputs": [],
   "source": [
    "def plot_accuracies_REF(scores):\n",
    "    no_features = [1, 2, 3, 4, 5, 6, 7, 8, 9, 10]\n",
    "    plot_parameters(10, 10)\n",
    "    plt.xlabel(\"Number of Features\", fontdict=None, labelpad=None, fontsize=12)\n",
    "    plt.ylabel(\"Accuracy\", fontdict=None, labelpad=None, fontsize=12)\n",
    "    plt.yticks(fontsize=12)\n",
    "    plt.xticks(no_features, fontsize=12)\n",
    "    plt.yticks(fontsize=12)\n",
    "    plt.axvspan(5, 5, color='pink', alpha=1)\n",
    "    plt.plot(no_features, scores, color=\"royalblue\")"
   ]
  },
  {
   "cell_type": "code",
   "execution_count": 109,
   "metadata": {
    "scrolled": false
   },
   "outputs": [
    {
     "data": {
      "image/png": "[encoded data removed]",
      "text/plain": [
       "<matplotlib.figure.Figure at 0x118080978>"
      ]
     },
     "metadata": {},
     "output_type": "display_data"
    }
   ],
   "source": [
    "plot_accuracies_REF(scores)"
   ]
  },
  {
   "cell_type": "code",
   "execution_count": 13,
   "metadata": {},
   "outputs": [],
   "source": [
    "def get_wave_values(waves, indices):\n",
    "    values = []\n",
    "    \n",
    "    for i in indices:\n",
    "        values.append(waves.iloc[[i]])\n",
    "            \n",
    "    return values"
   ]
  },
  {
   "cell_type": "code",
   "execution_count": 14,
   "metadata": {},
   "outputs": [
    {
     "data": {
      "text/plain": [
       "[          0\n",
       " 66  445.641,           0\n",
       " 86  453.123,           0\n",
       " 88  453.871,            0\n",
       " 250  513.929,            0\n",
       " 251  514.297,            0\n",
       " 421  576.238,            0\n",
       " 429  579.124,            0\n",
       " 584  634.521,            0\n",
       " 586  635.229,            0\n",
       " 914  748.911]"
      ]
     },
     "execution_count": 14,
     "metadata": {},
     "output_type": "execute_result"
    }
   ],
   "source": [
    "res = get_wave_values(waves, [66, 86, 88, 250, 251, 421, 429, 584, 586, 914])\n",
    "res"
   ]
  },
  {
   "cell_type": "code",
   "execution_count": 340,
   "metadata": {},
   "outputs": [],
   "source": [
    "def plot_confusion_matrix(cm, title='Confusion matrix - Training set', cmap=plt.cm.Blues):\n",
    "    plt.imshow(cm, interpolation='nearest', cmap=cmap)\n",
    "    plt.title(title)\n",
    "    plt.colorbar()\n",
    "    plt.xticks([0, 1, 2, 3, 4], decode_colours([0, 1, 2, 3, 4]))\n",
    "    plt.yticks([0, 1, 2, 3, 4], decode_colours([0, 1, 2, 3, 4]))\n",
    "    plt.tight_layout()\n",
    "    plt.ylabel('True class')\n",
    "    plt.xlabel('Predicted class')"
   ]
  },
  {
   "cell_type": "markdown",
   "metadata": {},
   "source": [
    "### Selects only certain features/columns in dataframe "
   ]
  },
  {
   "cell_type": "code",
   "execution_count": 323,
   "metadata": {},
   "outputs": [],
   "source": [
    "def select_columns(x, selected):\n",
    "    return x[selected]\n",
    "\n",
    "x_train = select_columns(x_train, [421, 429, 250])\n",
    "x_test = select_columns(x_test, [421, 429, 250])"
   ]
  },
  {
   "cell_type": "code",
   "execution_count": null,
   "metadata": {},
   "outputs": [],
   "source": [
    "# def get_features(df, indices):\n",
    "#     features = pd.DataFrame()\n",
    "\n",
    "#     for i in indices:\n",
    "#         a = df.iloc[:,i]\n",
    "#         features[i] = a.as_matrix(columns=None)\n",
    "        \n",
    "#     return features\n",
    "\n",
    "# b = x_train.iloc[:,indices[0]]\n",
    "# features = get_features(x_train, indices)\n",
    "# print(features)\n",
    "# print(waves.iloc[[250]], waves.iloc[[421]], waves.iloc[[429]])"
   ]
  },
  {
   "cell_type": "code",
   "execution_count": null,
   "metadata": {},
   "outputs": [],
   "source": []
  },
  {
   "cell_type": "markdown",
   "metadata": {},
   "source": [
    "### Run linear logistic regression model - training set"
   ]
  },
  {
   "cell_type": "code",
   "execution_count": 347,
   "metadata": {},
   "outputs": [
    {
     "name": "stdout",
     "output_type": "stream",
     "text": [
      "0.9968253968253968\n",
      "             precision    recall  f1-score   support\n",
      "\n",
      "          0       1.00      1.00      1.00        72\n",
      "          1       0.98      1.00      0.99        65\n",
      "          2       1.00      0.98      0.99        60\n",
      "          3       1.00      1.00      1.00        52\n",
      "          4       1.00      1.00      1.00        66\n",
      "\n",
      "avg / total       1.00      1.00      1.00       315\n",
      "\n"
     ]
    },
    {
     "name": "stderr",
     "output_type": "stream",
     "text": [
      "/usr/local/Cellar/python3/3.6.4_2/Frameworks/Python.framework/Versions/3.6/lib/python3.6/site-packages/sklearn/utils/validation.py:578: DataConversionWarning: A column-vector y was passed when a 1d array was expected. Please change the shape of y to (n_samples, ), for example using ravel().\n",
      "  y = column_or_1d(y, warn=True)\n"
     ]
    }
   ],
   "source": [
    "logistic_regression.fit(x_train, y_train)\n",
    "y_res = logistic_regression.predict(x_train)\n",
    "\n",
    "print(accuracy_score(y_train, y_res))\n",
    "print(classification_report(y_train, y_res))"
   ]
  },
  {
   "cell_type": "code",
   "execution_count": 348,
   "metadata": {},
   "outputs": [
    {
     "name": "stdout",
     "output_type": "stream",
     "text": [
      "Confusion matrx for training set\n"
     ]
    },
    {
     "data": {
      "image/png": "[encoded data removed]",
      "text/plain": [
       "<matplotlib.figure.Figure at 0x1238f1160>"
      ]
     },
     "metadata": {},
     "output_type": "display_data"
    }
   ],
   "source": [
    "plot_parameters(5, 5)\n",
    "cm = confusion_matrix(y_train, y_res)\n",
    "np.set_printoptions(precision=1)\n",
    "\n",
    "print(\"Confusion matrx for training set\")\n",
    "plot_confusion_matrix(cm)"
   ]
  },
  {
   "cell_type": "code",
   "execution_count": null,
   "metadata": {},
   "outputs": [],
   "source": []
  },
  {
   "cell_type": "markdown",
   "metadata": {},
   "source": [
    "### Linear Support Vector Classifier "
   ]
  },
  {
   "cell_type": "code",
   "execution_count": 351,
   "metadata": {
    "scrolled": false
   },
   "outputs": [
    {
     "name": "stdout",
     "output_type": "stream",
     "text": [
      "1.0\n",
      "             precision    recall  f1-score   support\n",
      "\n",
      "          0       1.00      1.00      1.00        72\n",
      "          1       1.00      1.00      1.00        65\n",
      "          2       1.00      1.00      1.00        60\n",
      "          3       1.00      1.00      1.00        52\n",
      "          4       1.00      1.00      1.00        66\n",
      "\n",
      "avg / total       1.00      1.00      1.00       315\n",
      "\n"
     ]
    },
    {
     "name": "stderr",
     "output_type": "stream",
     "text": [
      "/usr/local/Cellar/python3/3.6.4_2/Frameworks/Python.framework/Versions/3.6/lib/python3.6/site-packages/sklearn/utils/validation.py:578: DataConversionWarning: A column-vector y was passed when a 1d array was expected. Please change the shape of y to (n_samples, ), for example using ravel().\n",
      "  y = column_or_1d(y, warn=True)\n"
     ]
    }
   ],
   "source": [
    "from sklearn import svm\n",
    "\n",
    "svm_model = svm.SVC(C = 1.0)\n",
    "svm_model.fit(x_train, y_train)\n",
    "svc_predicted = svm_model.predict(x_train)\n",
    "\n",
    "print(accuracy_score(y_train, svc_predicted))\n",
    "print(classification_report(y_train, svc_predicted))"
   ]
  },
  {
   "cell_type": "code",
   "execution_count": 350,
   "metadata": {},
   "outputs": [
    {
     "name": "stdout",
     "output_type": "stream",
     "text": [
      "Confusion matrx for training set\n"
     ]
    },
    {
     "data": {
      "image/png": "[encoded data removed]",
      "text/plain": [
       "<matplotlib.figure.Figure at 0x12341fb70>"
      ]
     },
     "metadata": {},
     "output_type": "display_data"
    }
   ],
   "source": [
    "plot_parameters(5, 5)\n",
    "cm = confusion_matrix(y_train, svc_predicted)\n",
    "np.set_printoptions(precision=1)\n",
    "\n",
    "print(\"Confusion matrx for training set\")\n",
    "plot_confusion_matrix(cm)"
   ]
  },
  {
   "cell_type": "markdown",
   "metadata": {},
   "source": [
    "### Testing SVC on testin set"
   ]
  },
  {
   "cell_type": "code",
   "execution_count": 357,
   "metadata": {},
   "outputs": [
    {
     "name": "stdout",
     "output_type": "stream",
     "text": [
      "1.0\n",
      "             precision    recall  f1-score   support\n",
      "\n",
      "          0       1.00      1.00      1.00        18\n",
      "          1       1.00      1.00      1.00        25\n",
      "          2       1.00      1.00      1.00        30\n",
      "          3       1.00      1.00      1.00        38\n",
      "          4       1.00      1.00      1.00        24\n",
      "\n",
      "avg / total       1.00      1.00      1.00       135\n",
      "\n"
     ]
    }
   ],
   "source": [
    "svc_predicted_test = svm_model.predict(x_test)\n",
    "\n",
    "print(accuracy_score(y_test, svc_predicted_test))\n",
    "print(classification_report(y_test, svc_predicted_test))"
   ]
  },
  {
   "cell_type": "markdown",
   "metadata": {},
   "source": [
    "### Write to file function"
   ]
  },
  {
   "cell_type": "code",
   "execution_count": 358,
   "metadata": {},
   "outputs": [],
   "source": [
    "def write_to_file(df, path):\n",
    "    df.to_csv(path, encoding='utf-8', index=False)"
   ]
  },
  {
   "cell_type": "markdown",
   "metadata": {},
   "source": [
    "### Final results to a file 'PredictedClasses.csv' "
   ]
  },
  {
   "cell_type": "code",
   "execution_count": 394,
   "metadata": {},
   "outputs": [
    {
     "name": "stdout",
     "output_type": "stream",
     "text": [
      "[2 0 2 0 0 0 2 0 4 1 4 3 3 2 0 4 2 4 3 3 4 1 2 1 4 2 3 2 0 1 1 1 3 1 2 4 2\n",
      " 3 1 4 0 0 1 1 3 0 3 4 3 4]\n"
     ]
    }
   ],
   "source": [
    "to_clasify = pd.read_csv('../multiclass/XToClassify.csv', header=None)\n",
    "X = select_columns(to_clasify, [421, 429, 250])\n",
    "y_final_res = svm_model.predict(X)\n",
    "\n",
    "print(y_final_res)\n",
    "write_to_file(pd.DataFrame([y_final_res]), \"../multiClassTask/PredictedClasses.csv\")"
   ]
  },
  {
   "cell_type": "code",
   "execution_count": null,
   "metadata": {},
   "outputs": [],
   "source": []
  }
 ],
 "metadata": {
  "kernelspec": {
   "display_name": "Python 3",
   "language": "python",
   "name": "python3"
  },
  "language_info": {
   "codemirror_mode": {
    "name": "ipython",
    "version": 3
   },
   "file_extension": ".py",
   "mimetype": "text/x-python",
   "name": "python",
   "nbconvert_exporter": "python",
   "pygments_lexer": "ipython3",
   "version": "3.6.4"
  }
 },
 "nbformat": 4,
 "nbformat_minor": 2
}
