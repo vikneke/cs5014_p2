{
 "cells": [
  {
   "cell_type": "code",
   "execution_count": 291,
   "metadata": {},
   "outputs": [],
   "source": [
    "import pandas as pd\n",
    "import numpy as np\n",
    "import matplotlib.pyplot as plt\n",
    "import sklearn as skl\n",
    "\n",
    "from sklearn.cross_validation import train_test_split\n",
    "from sklearn.metrics import confusion_matrix, accuracy_score, classification_report\n",
    "from sklearn import linear_model, cross_validation\n",
    "from sklearn.feature_selection import RFE\n",
    "from sklearn import preprocessing\n",
    "\n",
    "logistic_regression = linear_model.LogisticRegression()"
   ]
  },
  {
   "cell_type": "markdown",
   "metadata": {},
   "source": [
    "### Load data files "
   ]
  },
  {
   "cell_type": "code",
   "execution_count": 229,
   "metadata": {},
   "outputs": [],
   "source": [
    "waves = pd.read_csv('../multiclass/Wavelength.csv', header=None)\n",
    "x = pd.read_csv('../multiclass/X.csv', header=None)\n",
    "y = pd.read_csv('../multiclass/y.csv', header=None)"
   ]
  },
  {
   "cell_type": "markdown",
   "metadata": {},
   "source": [
    "### Setting key colour values"
   ]
  },
  {
   "cell_type": "code",
   "execution_count": 230,
   "metadata": {},
   "outputs": [],
   "source": [
    "def decode_colours(toDecode):\n",
    "    keys = {0: 'Blue', 1: 'Green', 2: 'Pink', 3: 'Red', 4: 'Yellow'}\n",
    "\n",
    "    res = []\n",
    "    for i in toDecode:\n",
    "        res.append(keys[i])\n",
    "        \n",
    "    return res"
   ]
  },
  {
   "cell_type": "markdown",
   "metadata": {},
   "source": [
    "### Set up plot parameters "
   ]
  },
  {
   "cell_type": "code",
   "execution_count": 231,
   "metadata": {},
   "outputs": [],
   "source": [
    "def plot_parameters(x, y):\n",
    "    fig_size = plt.rcParams[\"figure.figsize\"]\n",
    "    fig_size[0] = x\n",
    "    fig_size[1] = y\n",
    "    plt.rcParams[\"figure.figsize\"] = fig_size\n",
    "\n",
    "plot_parameters(30, 10)"
   ]
  },
  {
   "cell_type": "code",
   "execution_count": 232,
   "metadata": {},
   "outputs": [
    {
     "data": {
      "text/html": [
       "<div>\n",
       "<style scoped>\n",
       "    .dataframe tbody tr th:only-of-type {\n",
       "        vertical-align: middle;\n",
       "    }\n",
       "\n",
       "    .dataframe tbody tr th {\n",
       "        vertical-align: top;\n",
       "    }\n",
       "\n",
       "    .dataframe thead th {\n",
       "        text-align: right;\n",
       "    }\n",
       "</style>\n",
       "<table border=\"1\" class=\"dataframe\">\n",
       "  <thead>\n",
       "    <tr style=\"text-align: right;\">\n",
       "      <th></th>\n",
       "      <th>0</th>\n",
       "      <th>1</th>\n",
       "      <th>2</th>\n",
       "      <th>3</th>\n",
       "      <th>4</th>\n",
       "      <th>5</th>\n",
       "      <th>6</th>\n",
       "      <th>7</th>\n",
       "      <th>8</th>\n",
       "      <th>9</th>\n",
       "      <th>...</th>\n",
       "      <th>911</th>\n",
       "      <th>912</th>\n",
       "      <th>913</th>\n",
       "      <th>914</th>\n",
       "      <th>915</th>\n",
       "      <th>916</th>\n",
       "      <th>917</th>\n",
       "      <th>918</th>\n",
       "      <th>919</th>\n",
       "      <th>920</th>\n",
       "    </tr>\n",
       "  </thead>\n",
       "  <tbody>\n",
       "    <tr>\n",
       "      <th>count</th>\n",
       "      <td>450.000000</td>\n",
       "      <td>450.000000</td>\n",
       "      <td>450.000000</td>\n",
       "      <td>450.000000</td>\n",
       "      <td>450.000000</td>\n",
       "      <td>450.000000</td>\n",
       "      <td>450.000000</td>\n",
       "      <td>450.000000</td>\n",
       "      <td>450.000000</td>\n",
       "      <td>450.000000</td>\n",
       "      <td>...</td>\n",
       "      <td>450.000000</td>\n",
       "      <td>450.000000</td>\n",
       "      <td>450.000000</td>\n",
       "      <td>450.000000</td>\n",
       "      <td>450.000000</td>\n",
       "      <td>450.000000</td>\n",
       "      <td>450.000000</td>\n",
       "      <td>450.000000</td>\n",
       "      <td>450.000000</td>\n",
       "      <td>450.000000</td>\n",
       "    </tr>\n",
       "    <tr>\n",
       "      <th>mean</th>\n",
       "      <td>0.831778</td>\n",
       "      <td>36.078489</td>\n",
       "      <td>-29.759578</td>\n",
       "      <td>36.237622</td>\n",
       "      <td>24.554111</td>\n",
       "      <td>-19.815911</td>\n",
       "      <td>5.518956</td>\n",
       "      <td>24.440200</td>\n",
       "      <td>6.366400</td>\n",
       "      <td>27.666489</td>\n",
       "      <td>...</td>\n",
       "      <td>27.150978</td>\n",
       "      <td>9.799378</td>\n",
       "      <td>18.105222</td>\n",
       "      <td>3.752111</td>\n",
       "      <td>20.738556</td>\n",
       "      <td>-0.286733</td>\n",
       "      <td>14.574533</td>\n",
       "      <td>10.990689</td>\n",
       "      <td>16.554711</td>\n",
       "      <td>35.873378</td>\n",
       "    </tr>\n",
       "    <tr>\n",
       "      <th>std</th>\n",
       "      <td>28.661154</td>\n",
       "      <td>38.447405</td>\n",
       "      <td>40.636535</td>\n",
       "      <td>17.290104</td>\n",
       "      <td>20.467866</td>\n",
       "      <td>25.229021</td>\n",
       "      <td>29.500466</td>\n",
       "      <td>26.104627</td>\n",
       "      <td>26.060944</td>\n",
       "      <td>24.427463</td>\n",
       "      <td>...</td>\n",
       "      <td>30.344943</td>\n",
       "      <td>34.860937</td>\n",
       "      <td>38.391676</td>\n",
       "      <td>42.098634</td>\n",
       "      <td>43.066364</td>\n",
       "      <td>52.972575</td>\n",
       "      <td>39.282065</td>\n",
       "      <td>37.350340</td>\n",
       "      <td>28.352641</td>\n",
       "      <td>25.125371</td>\n",
       "    </tr>\n",
       "    <tr>\n",
       "      <th>min</th>\n",
       "      <td>-74.140000</td>\n",
       "      <td>-92.590000</td>\n",
       "      <td>-143.410000</td>\n",
       "      <td>-13.050000</td>\n",
       "      <td>-32.810000</td>\n",
       "      <td>-87.240000</td>\n",
       "      <td>-72.790000</td>\n",
       "      <td>-64.190000</td>\n",
       "      <td>-79.430000</td>\n",
       "      <td>-44.400000</td>\n",
       "      <td>...</td>\n",
       "      <td>-32.680000</td>\n",
       "      <td>-57.770000</td>\n",
       "      <td>-57.650000</td>\n",
       "      <td>-76.860000</td>\n",
       "      <td>-64.200000</td>\n",
       "      <td>-103.700000</td>\n",
       "      <td>-60.730000</td>\n",
       "      <td>-73.420000</td>\n",
       "      <td>-38.540000</td>\n",
       "      <td>-15.760000</td>\n",
       "    </tr>\n",
       "    <tr>\n",
       "      <th>25%</th>\n",
       "      <td>-18.747500</td>\n",
       "      <td>9.965000</td>\n",
       "      <td>-56.740000</td>\n",
       "      <td>25.737500</td>\n",
       "      <td>10.487500</td>\n",
       "      <td>-36.810000</td>\n",
       "      <td>-14.835000</td>\n",
       "      <td>7.092500</td>\n",
       "      <td>-11.870000</td>\n",
       "      <td>10.972500</td>\n",
       "      <td>...</td>\n",
       "      <td>-3.982500</td>\n",
       "      <td>-25.557500</td>\n",
       "      <td>-20.912500</td>\n",
       "      <td>-42.067500</td>\n",
       "      <td>-25.817500</td>\n",
       "      <td>-55.842500</td>\n",
       "      <td>-24.437500</td>\n",
       "      <td>-26.797500</td>\n",
       "      <td>-11.785000</td>\n",
       "      <td>9.552500</td>\n",
       "    </tr>\n",
       "    <tr>\n",
       "      <th>50%</th>\n",
       "      <td>0.620000</td>\n",
       "      <td>37.705000</td>\n",
       "      <td>-29.555000</td>\n",
       "      <td>35.720000</td>\n",
       "      <td>24.200000</td>\n",
       "      <td>-20.545000</td>\n",
       "      <td>5.030000</td>\n",
       "      <td>25.905000</td>\n",
       "      <td>5.090000</td>\n",
       "      <td>27.085000</td>\n",
       "      <td>...</td>\n",
       "      <td>36.540000</td>\n",
       "      <td>22.170000</td>\n",
       "      <td>31.490000</td>\n",
       "      <td>20.280000</td>\n",
       "      <td>34.925000</td>\n",
       "      <td>15.695000</td>\n",
       "      <td>28.485000</td>\n",
       "      <td>22.535000</td>\n",
       "      <td>25.825000</td>\n",
       "      <td>43.090000</td>\n",
       "    </tr>\n",
       "    <tr>\n",
       "      <th>75%</th>\n",
       "      <td>19.420000</td>\n",
       "      <td>60.480000</td>\n",
       "      <td>-2.220000</td>\n",
       "      <td>47.747500</td>\n",
       "      <td>38.565000</td>\n",
       "      <td>-4.895000</td>\n",
       "      <td>27.130000</td>\n",
       "      <td>43.212500</td>\n",
       "      <td>23.150000</td>\n",
       "      <td>43.130000</td>\n",
       "      <td>...</td>\n",
       "      <td>53.275000</td>\n",
       "      <td>39.067500</td>\n",
       "      <td>51.440000</td>\n",
       "      <td>38.925000</td>\n",
       "      <td>56.170000</td>\n",
       "      <td>43.917500</td>\n",
       "      <td>48.262500</td>\n",
       "      <td>42.695000</td>\n",
       "      <td>40.265000</td>\n",
       "      <td>57.110000</td>\n",
       "    </tr>\n",
       "    <tr>\n",
       "      <th>max</th>\n",
       "      <td>75.490000</td>\n",
       "      <td>157.780000</td>\n",
       "      <td>99.110000</td>\n",
       "      <td>97.300000</td>\n",
       "      <td>81.810000</td>\n",
       "      <td>49.170000</td>\n",
       "      <td>85.030000</td>\n",
       "      <td>111.630000</td>\n",
       "      <td>109.890000</td>\n",
       "      <td>119.380000</td>\n",
       "      <td>...</td>\n",
       "      <td>80.650000</td>\n",
       "      <td>71.670000</td>\n",
       "      <td>81.130000</td>\n",
       "      <td>75.300000</td>\n",
       "      <td>101.200000</td>\n",
       "      <td>113.160000</td>\n",
       "      <td>86.910000</td>\n",
       "      <td>78.080000</td>\n",
       "      <td>74.620000</td>\n",
       "      <td>89.020000</td>\n",
       "    </tr>\n",
       "  </tbody>\n",
       "</table>\n",
       "<p>8 rows × 921 columns</p>\n",
       "</div>"
      ],
      "text/plain": [
       "              0           1           2           3           4           5    \\\n",
       "count  450.000000  450.000000  450.000000  450.000000  450.000000  450.000000   \n",
       "mean     0.831778   36.078489  -29.759578   36.237622   24.554111  -19.815911   \n",
       "std     28.661154   38.447405   40.636535   17.290104   20.467866   25.229021   \n",
       "min    -74.140000  -92.590000 -143.410000  -13.050000  -32.810000  -87.240000   \n",
       "25%    -18.747500    9.965000  -56.740000   25.737500   10.487500  -36.810000   \n",
       "50%      0.620000   37.705000  -29.555000   35.720000   24.200000  -20.545000   \n",
       "75%     19.420000   60.480000   -2.220000   47.747500   38.565000   -4.895000   \n",
       "max     75.490000  157.780000   99.110000   97.300000   81.810000   49.170000   \n",
       "\n",
       "              6           7           8           9       ...             911  \\\n",
       "count  450.000000  450.000000  450.000000  450.000000     ...      450.000000   \n",
       "mean     5.518956   24.440200    6.366400   27.666489     ...       27.150978   \n",
       "std     29.500466   26.104627   26.060944   24.427463     ...       30.344943   \n",
       "min    -72.790000  -64.190000  -79.430000  -44.400000     ...      -32.680000   \n",
       "25%    -14.835000    7.092500  -11.870000   10.972500     ...       -3.982500   \n",
       "50%      5.030000   25.905000    5.090000   27.085000     ...       36.540000   \n",
       "75%     27.130000   43.212500   23.150000   43.130000     ...       53.275000   \n",
       "max     85.030000  111.630000  109.890000  119.380000     ...       80.650000   \n",
       "\n",
       "              912         913         914         915         916         917  \\\n",
       "count  450.000000  450.000000  450.000000  450.000000  450.000000  450.000000   \n",
       "mean     9.799378   18.105222    3.752111   20.738556   -0.286733   14.574533   \n",
       "std     34.860937   38.391676   42.098634   43.066364   52.972575   39.282065   \n",
       "min    -57.770000  -57.650000  -76.860000  -64.200000 -103.700000  -60.730000   \n",
       "25%    -25.557500  -20.912500  -42.067500  -25.817500  -55.842500  -24.437500   \n",
       "50%     22.170000   31.490000   20.280000   34.925000   15.695000   28.485000   \n",
       "75%     39.067500   51.440000   38.925000   56.170000   43.917500   48.262500   \n",
       "max     71.670000   81.130000   75.300000  101.200000  113.160000   86.910000   \n",
       "\n",
       "              918         919         920  \n",
       "count  450.000000  450.000000  450.000000  \n",
       "mean    10.990689   16.554711   35.873378  \n",
       "std     37.350340   28.352641   25.125371  \n",
       "min    -73.420000  -38.540000  -15.760000  \n",
       "25%    -26.797500  -11.785000    9.552500  \n",
       "50%     22.535000   25.825000   43.090000  \n",
       "75%     42.695000   40.265000   57.110000  \n",
       "max     78.080000   74.620000   89.020000  \n",
       "\n",
       "[8 rows x 921 columns]"
      ]
     },
     "execution_count": 232,
     "metadata": {},
     "output_type": "execute_result"
    }
   ],
   "source": [
    "x.describe()"
   ]
  },
  {
   "cell_type": "code",
   "execution_count": 233,
   "metadata": {},
   "outputs": [
    {
     "name": "stdout",
     "output_type": "stream",
     "text": [
      "921 414450 450\n"
     ]
    }
   ],
   "source": [
    "print(waves.size, x.size, y.size)"
   ]
  },
  {
   "cell_type": "markdown",
   "metadata": {},
   "source": [
    "### Drop records with NaN values if any exists"
   ]
  },
  {
   "cell_type": "code",
   "execution_count": 234,
   "metadata": {},
   "outputs": [],
   "source": [
    "# Drop all rows that have NaN values\n",
    "def drop_nan(waves, x, y):\n",
    "    waves.dropna()\n",
    "    x.dropna()\n",
    "    y.dropna()\n",
    "    \n",
    "drop_nan(waves, x, y)"
   ]
  },
  {
   "cell_type": "markdown",
   "metadata": {},
   "source": [
    "### Split data into training and testing sets "
   ]
  },
  {
   "cell_type": "code",
   "execution_count": 297,
   "metadata": {
    "scrolled": false
   },
   "outputs": [
    {
     "name": "stdout",
     "output_type": "stream",
     "text": [
      "290115 315\n",
      "124335 135\n"
     ]
    }
   ],
   "source": [
    "flat_waves = waves.T.as_matrix(columns=None).flatten()\n",
    "x_train, x_test, y_train, y_test  = train_test_split(x, y, test_size=0.3, random_state=42)\n",
    "\n",
    "print(x_train.size, y_train.size)\n",
    "print(x_test.size, y_test.size)"
   ]
  },
  {
   "cell_type": "markdown",
   "metadata": {},
   "source": [
    "### Plot features "
   ]
  },
  {
   "cell_type": "code",
   "execution_count": 298,
   "metadata": {
    "scrolled": false
   },
   "outputs": [],
   "source": [
    "def plot_training_data(x_train, y_train, waves):\n",
    "    index = 0\n",
    "    y_train = y_train.as_matrix(columns=None)\n",
    "    \n",
    "    for ind, row in x_train.iterrows():\n",
    "        if y_train[index] == 0:\n",
    "            plt.plot(x_train.columns.values, row, color=\"blue\")\n",
    "        elif y_train[index] == 1:\n",
    "            plt.plot(x_train.columns.values, row, color=\"lightgreen\")\n",
    "        elif y_train[index] == 2:\n",
    "            plt.plot(x_train.columns.values, row, color=\"hotpink\")\n",
    "        elif y_train[index] == 3:\n",
    "            plt.plot(x_train.columns.values, row, color=\"indianred\")\n",
    "        elif y_train[index] == 4:\n",
    "            plt.plot(x_train.columns.values, row, color=\"yellow\")    \n",
    "        index += 1\n",
    "    \n",
    "    plt.xlabel(\"Feature index\", fontdict=None, labelpad=None, fontsize=12)\n",
    "    plt.ylabel(\"Optical reflectance intensity\", fontdict=None, labelpad=None, fontsize=12)\n",
    "    plt.yticks([-150, -100, -50, 0, 50, 100, 150], fontsize=12)  \n",
    "    plt.xticks([0, 100, 200, 300, 400, 500, 600, 700, 800, 900], fontsize=12)  \n",
    "    plt.xlim(xmin=0, xmax=921)\n",
    "\n",
    "#     plt.axvspan(576, 577, color='grey', alpha=0.5)\n",
    "    # plt.axvspan(513, 514, color='grey', alpha=0.5)\n",
    "\n",
    "    plt.show()"
   ]
  },
  {
   "cell_type": "code",
   "execution_count": 299,
   "metadata": {},
   "outputs": [
    {
     "data": {
      "image/png": "[encoded data removed]",
      "text/plain": [
       "<matplotlib.figure.Figure at 0x12274f860>"
      ]
     },
     "metadata": {},
     "output_type": "display_data"
    }
   ],
   "source": [
    "plot_training_data(x_train, y_train, flat_waves)"
   ]
  },
  {
   "cell_type": "code",
   "execution_count": 319,
   "metadata": {
    "scrolled": false
   },
   "outputs": [],
   "source": [
    "def plot_histogram(feature_index, x_train, y_train):\n",
    "    plot_parameters(10, 10)\n",
    "    blue = []\n",
    "    green = []\n",
    "    pink = []\n",
    "    red = []\n",
    "    yellow = []\n",
    "\n",
    "    y_train = y_train.as_matrix(columns=None)\n",
    "\n",
    "    index = 0\n",
    "    for i in x_train[feature_index]:\n",
    "        if y_train[index] == 0:\n",
    "            blue.append(i)\n",
    "        elif y_train[index] == 1:\n",
    "            green.append(i)\n",
    "        elif y_train[index] == 2:\n",
    "            pink.append(i)\n",
    "        elif y_train[index] == 3:\n",
    "            red.append(i)\n",
    "        elif y_train[index] == 4:\n",
    "            yellow.append(i)\n",
    "        index += 1\n",
    "\n",
    "    plt.xlabel(\"Intencity values\", fontdict=None, labelpad=None, fontsize=12)\n",
    "    plt.ylabel(\"Number of intencity values\", fontdict=None, labelpad=None, fontsize=12)\n",
    "    # plt.hist([blue, green, pink, red], 100, alpha=1, color=[\"blue\", \"lightgreen\", \"pink\", \"red\"])\n",
    "\n",
    "    plt.hist([pink], 5, alpha=0.8, color=[\"pink\"])\n",
    "    plt.hist([blue], 5, alpha=0.8, color=[\"blue\"])\n",
    "    plt.hist([green], 5, alpha=0.8, color=[\"lightgreen\"])\n",
    "    plt.hist([red], 5, alpha=0.8, color=[\"indianred\"])\n",
    "    plt.hist([yellow], 5, alpha=0.8, color=[\"yellow\"])\n",
    "\n",
    "    plt.show()"
   ]
  },
  {
   "cell_type": "code",
   "execution_count": 320,
   "metadata": {},
   "outputs": [
    {
     "data": {
      "image/png": "[encoded data removed]",
      "text/plain": [
       "<matplotlib.figure.Figure at 0x123c002e8>"
      ]
     },
     "metadata": {},
     "output_type": "display_data"
    },
    {
     "data": {
      "image/png": "[encoded data removed]",
      "text/plain": [
       "<matplotlib.figure.Figure at 0x123c20be0>"
      ]
     },
     "metadata": {},
     "output_type": "display_data"
    }
   ],
   "source": [
    "plot_histogram(400, x_train, y_train)\n",
    "plot_histogram(900, x_train, y_train)"
   ]
  },
  {
   "cell_type": "code",
   "execution_count": 240,
   "metadata": {},
   "outputs": [],
   "source": [
    "def one_feature_experiment(x_train, y_train):\n",
    "    accuracies = []\n",
    "    \n",
    "    for i in x_train:\n",
    "        x_one = x_train[i].values.reshape(-1, 1)\n",
    "        logistic_regression.fit(x_one, y_train)\n",
    "        y_res = logistic_regression.predict(x_one)\n",
    "        accuracies.append(accuracy_score(y_train, y_res))\n",
    "\n",
    "    return accuracies"
   ]
  },
  {
   "cell_type": "code",
   "execution_count": null,
   "metadata": {},
   "outputs": [],
   "source": [
    "def plot_one_feature_exp_results(acc):\n",
    "    plot_parameters(30, 10)\n",
    "    plt.xlabel(\"Feature index\", fontdict=None, labelpad=None, fontsize=12)\n",
    "    plt.ylabel(\"Accuracy\", fontdict=None, labelpad=None, fontsize=12)\n",
    "    plt.yticks(fontsize=12)\n",
    "    plt.xticks([0, 100, 200, 300, 400, 500, 600, 700, 800, 900], fontsize=12)  \n",
    "    plt.xlim(xmin=0, xmax=921)\n",
    "    \n",
    "    index = 0\n",
    "    for i in acc:\n",
    "        if i > 0.9:\n",
    "            plt.axvspan(index, index, color='pink', alpha=0.8)\n",
    "        elif i > 0.8:\n",
    "            plt.axvspan(index, index, color='pink', alpha=0.6)\n",
    "        elif i > 0.7:\n",
    "            plt.axvspan(index, index, color='pink', alpha=0.4)\n",
    "        elif i > 0.6:\n",
    "            plt.axvspan(index, index, color='pink', alpha=0.2)\n",
    "        elif i > 0.5:\n",
    "            plt.axvspan(index, index, color='pink', alpha=0.1)\n",
    "        index += 1\n",
    "        \n",
    "    plt.plot(acc)"
   ]
  },
  {
   "cell_type": "code",
   "execution_count": null,
   "metadata": {},
   "outputs": [],
   "source": [
    "acc = one_feature_experiment(x_train, y_train)\n",
    "plot_one_feature_exp_results(acc)"
   ]
  },
  {
   "cell_type": "code",
   "execution_count": null,
   "metadata": {},
   "outputs": [],
   "source": [
    "def get_true_indices(matrix):\n",
    "    indices = []\n",
    "    index = 0\n",
    "    for i in matrix:\n",
    "        if i == True:\n",
    "            indices.append(index)\n",
    "        index += 1\n",
    "    return indices"
   ]
  },
  {
   "cell_type": "code",
   "execution_count": 35,
   "metadata": {},
   "outputs": [],
   "source": [
    "def experiment(no_features):\n",
    "    results = []\n",
    "    \n",
    "    for i in no_features:\n",
    "        logistic = RFE(logistic_regression, i, step=1)\n",
    "        logistic = logistic.fit(x_train, y_train)\n",
    "        \n",
    "        print(get_true_indices(logistic.support_))\n",
    "        \n",
    "        y_res = logistic.predict(x_train)\n",
    "        accuracy = accuracy_score(y_train, y_res.ravel())\n",
    "        \n",
    "        print(accuracy)\n",
    "        \n",
    "        results.append(accuracy)\n",
    "        \n",
    "    return results"
   ]
  },
  {
   "cell_type": "code",
   "execution_count": 36,
   "metadata": {},
   "outputs": [
    {
     "name": "stderr",
     "output_type": "stream",
     "text": [
      "/usr/local/Cellar/python3/3.6.4_2/Frameworks/Python.framework/Versions/3.6/lib/python3.6/site-packages/sklearn/utils/validation.py:578: DataConversionWarning: A column-vector y was passed when a 1d array was expected. Please change the shape of y to (n_samples, ), for example using ravel().\n",
      "  y = column_or_1d(y, warn=True)\n"
     ]
    },
    {
     "name": "stdout",
     "output_type": "stream",
     "text": [
      "[421]\n",
      "0.8095238095238095\n"
     ]
    },
    {
     "name": "stderr",
     "output_type": "stream",
     "text": [
      "/usr/local/Cellar/python3/3.6.4_2/Frameworks/Python.framework/Versions/3.6/lib/python3.6/site-packages/sklearn/utils/validation.py:578: DataConversionWarning: A column-vector y was passed when a 1d array was expected. Please change the shape of y to (n_samples, ), for example using ravel().\n",
      "  y = column_or_1d(y, warn=True)\n"
     ]
    },
    {
     "name": "stdout",
     "output_type": "stream",
     "text": [
      "[421, 429]\n",
      "0.8507936507936508\n"
     ]
    },
    {
     "name": "stderr",
     "output_type": "stream",
     "text": [
      "/usr/local/Cellar/python3/3.6.4_2/Frameworks/Python.framework/Versions/3.6/lib/python3.6/site-packages/sklearn/utils/validation.py:578: DataConversionWarning: A column-vector y was passed when a 1d array was expected. Please change the shape of y to (n_samples, ), for example using ravel().\n",
      "  y = column_or_1d(y, warn=True)\n"
     ]
    },
    {
     "name": "stdout",
     "output_type": "stream",
     "text": [
      "[250, 421, 429]\n",
      "0.9968253968253968\n"
     ]
    },
    {
     "name": "stderr",
     "output_type": "stream",
     "text": [
      "/usr/local/Cellar/python3/3.6.4_2/Frameworks/Python.framework/Versions/3.6/lib/python3.6/site-packages/sklearn/utils/validation.py:578: DataConversionWarning: A column-vector y was passed when a 1d array was expected. Please change the shape of y to (n_samples, ), for example using ravel().\n",
      "  y = column_or_1d(y, warn=True)\n"
     ]
    },
    {
     "name": "stdout",
     "output_type": "stream",
     "text": [
      "[250, 251, 421, 429]\n",
      "0.9968253968253968\n"
     ]
    },
    {
     "name": "stderr",
     "output_type": "stream",
     "text": [
      "/usr/local/Cellar/python3/3.6.4_2/Frameworks/Python.framework/Versions/3.6/lib/python3.6/site-packages/sklearn/utils/validation.py:578: DataConversionWarning: A column-vector y was passed when a 1d array was expected. Please change the shape of y to (n_samples, ), for example using ravel().\n",
      "  y = column_or_1d(y, warn=True)\n"
     ]
    },
    {
     "name": "stdout",
     "output_type": "stream",
     "text": [
      "[86, 250, 251, 421, 429]\n",
      "1.0\n"
     ]
    },
    {
     "name": "stderr",
     "output_type": "stream",
     "text": [
      "/usr/local/Cellar/python3/3.6.4_2/Frameworks/Python.framework/Versions/3.6/lib/python3.6/site-packages/sklearn/utils/validation.py:578: DataConversionWarning: A column-vector y was passed when a 1d array was expected. Please change the shape of y to (n_samples, ), for example using ravel().\n",
      "  y = column_or_1d(y, warn=True)\n"
     ]
    },
    {
     "name": "stdout",
     "output_type": "stream",
     "text": [
      "[86, 250, 251, 421, 429, 586]\n",
      "1.0\n"
     ]
    },
    {
     "name": "stderr",
     "output_type": "stream",
     "text": [
      "/usr/local/Cellar/python3/3.6.4_2/Frameworks/Python.framework/Versions/3.6/lib/python3.6/site-packages/sklearn/utils/validation.py:578: DataConversionWarning: A column-vector y was passed when a 1d array was expected. Please change the shape of y to (n_samples, ), for example using ravel().\n",
      "  y = column_or_1d(y, warn=True)\n"
     ]
    },
    {
     "name": "stdout",
     "output_type": "stream",
     "text": [
      "[86, 88, 250, 251, 421, 429, 586]\n",
      "1.0\n"
     ]
    },
    {
     "name": "stderr",
     "output_type": "stream",
     "text": [
      "/usr/local/Cellar/python3/3.6.4_2/Frameworks/Python.framework/Versions/3.6/lib/python3.6/site-packages/sklearn/utils/validation.py:578: DataConversionWarning: A column-vector y was passed when a 1d array was expected. Please change the shape of y to (n_samples, ), for example using ravel().\n",
      "  y = column_or_1d(y, warn=True)\n"
     ]
    },
    {
     "name": "stdout",
     "output_type": "stream",
     "text": [
      "[66, 86, 88, 250, 251, 421, 429, 586]\n",
      "1.0\n"
     ]
    },
    {
     "name": "stderr",
     "output_type": "stream",
     "text": [
      "/usr/local/Cellar/python3/3.6.4_2/Frameworks/Python.framework/Versions/3.6/lib/python3.6/site-packages/sklearn/utils/validation.py:578: DataConversionWarning: A column-vector y was passed when a 1d array was expected. Please change the shape of y to (n_samples, ), for example using ravel().\n",
      "  y = column_or_1d(y, warn=True)\n"
     ]
    },
    {
     "name": "stdout",
     "output_type": "stream",
     "text": [
      "[66, 86, 88, 250, 251, 421, 429, 584, 586]\n",
      "1.0\n"
     ]
    },
    {
     "name": "stderr",
     "output_type": "stream",
     "text": [
      "/usr/local/Cellar/python3/3.6.4_2/Frameworks/Python.framework/Versions/3.6/lib/python3.6/site-packages/sklearn/utils/validation.py:578: DataConversionWarning: A column-vector y was passed when a 1d array was expected. Please change the shape of y to (n_samples, ), for example using ravel().\n",
      "  y = column_or_1d(y, warn=True)\n"
     ]
    },
    {
     "name": "stdout",
     "output_type": "stream",
     "text": [
      "[66, 86, 88, 250, 251, 421, 429, 584, 586, 914]\n",
      "1.0\n",
      "[0.8095238095238095, 0.8507936507936508, 0.9968253968253968, 0.9968253968253968, 1.0, 1.0, 1.0, 1.0, 1.0, 1.0]\n"
     ]
    }
   ],
   "source": [
    "scores = experiment([1, 2, 3, 4, 5, 6, 7, 8, 9, 10])\n",
    "print(scores)"
   ]
  },
  {
   "cell_type": "code",
   "execution_count": 110,
   "metadata": {},
   "outputs": [],
   "source": [
    "def plot_accuracies_REF(scores):\n",
    "    no_features = [1, 2, 3, 4, 5, 6, 7, 8, 9, 10]\n",
    "    plot_parameters(10, 10)\n",
    "    plt.xlabel(\"Number of Features\", fontdict=None, labelpad=None, fontsize=12)\n",
    "    plt.ylabel(\"Accuracy\", fontdict=None, labelpad=None, fontsize=12)\n",
    "    plt.yticks(fontsize=12)\n",
    "    plt.xticks(no_features, fontsize=12)\n",
    "    plt.yticks(fontsize=12)\n",
    "    plt.axvspan(5, 5, color='pink', alpha=1)\n",
    "    plt.plot(no_features, scores, color=\"royalblue\")"
   ]
  },
  {
   "cell_type": "code",
   "execution_count": 109,
   "metadata": {
    "scrolled": false
   },
   "outputs": [
    {
     "data": {
      "image/png": "[encoded data removed]",
      "text/plain": [
       "<matplotlib.figure.Figure at 0x118080978>"
      ]
     },
     "metadata": {},
     "output_type": "display_data"
    }
   ],
   "source": [
    "plot_accuracies_REF(scores)"
   ]
  },
  {
   "cell_type": "code",
   "execution_count": 13,
   "metadata": {},
   "outputs": [],
   "source": [
    "def get_wave_values(waves, indices):\n",
    "    values = []\n",
    "    \n",
    "    for i in indices:\n",
    "        values.append(waves.iloc[[i]])\n",
    "            \n",
    "    return values"
   ]
  },
  {
   "cell_type": "code",
   "execution_count": 14,
   "metadata": {},
   "outputs": [
    {
     "data": {
      "text/plain": [
       "[          0\n",
       " 66  445.641,           0\n",
       " 86  453.123,           0\n",
       " 88  453.871,            0\n",
       " 250  513.929,            0\n",
       " 251  514.297,            0\n",
       " 421  576.238,            0\n",
       " 429  579.124,            0\n",
       " 584  634.521,            0\n",
       " 586  635.229,            0\n",
       " 914  748.911]"
      ]
     },
     "execution_count": 14,
     "metadata": {},
     "output_type": "execute_result"
    }
   ],
   "source": [
    "res = get_wave_values(waves, [66, 86, 88, 250, 251, 421, 429, 584, 586, 914])\n",
    "res"
   ]
  },
  {
   "cell_type": "code",
   "execution_count": 340,
   "metadata": {},
   "outputs": [],
   "source": [
    "def plot_confusion_matrix(cm, title='Confusion matrix - Training set', cmap=plt.cm.Blues):\n",
    "    plt.imshow(cm, interpolation='nearest', cmap=cmap)\n",
    "    plt.title(title)\n",
    "    plt.colorbar()\n",
    "    plt.xticks([0, 1, 2, 3, 4], decode_colours([0, 1, 2, 3, 4]))\n",
    "    plt.yticks([0, 1, 2, 3, 4], decode_colours([0, 1, 2, 3, 4]))\n",
    "    plt.tight_layout()\n",
    "    plt.ylabel('True class')\n",
    "    plt.xlabel('Predicted class')"
   ]
  },
  {
   "cell_type": "markdown",
   "metadata": {},
   "source": [
    "### Selects only certain features/columns in dataframe "
   ]
  },
  {
   "cell_type": "code",
   "execution_count": 323,
   "metadata": {},
   "outputs": [],
   "source": [
    "def select_columns(x, selected):\n",
    "    return x[selected]\n",
    "\n",
    "x_train = select_columns(x_train, [421, 429, 250])\n",
    "x_test = select_columns(x_test, [421, 429, 250])"
   ]
  },
  {
   "cell_type": "code",
   "execution_count": null,
   "metadata": {},
   "outputs": [],
   "source": [
    "# def get_features(df, indices):\n",
    "#     features = pd.DataFrame()\n",
    "\n",
    "#     for i in indices:\n",
    "#         a = df.iloc[:,i]\n",
    "#         features[i] = a.as_matrix(columns=None)\n",
    "        \n",
    "#     return features\n",
    "\n",
    "# b = x_train.iloc[:,indices[0]]\n",
    "# features = get_features(x_train, indices)\n",
    "# print(features)\n",
    "# print(waves.iloc[[250]], waves.iloc[[421]], waves.iloc[[429]])"
   ]
  },
  {
   "cell_type": "code",
   "execution_count": null,
   "metadata": {},
   "outputs": [],
   "source": []
  },
  {
   "cell_type": "markdown",
   "metadata": {},
   "source": [
    "### Run linear logistic regression model - training set"
   ]
  },
  {
   "cell_type": "code",
   "execution_count": 347,
   "metadata": {},
   "outputs": [
    {
     "name": "stdout",
     "output_type": "stream",
     "text": [
      "0.9968253968253968\n",
      "             precision    recall  f1-score   support\n",
      "\n",
      "          0       1.00      1.00      1.00        72\n",
      "          1       0.98      1.00      0.99        65\n",
      "          2       1.00      0.98      0.99        60\n",
      "          3       1.00      1.00      1.00        52\n",
      "          4       1.00      1.00      1.00        66\n",
      "\n",
      "avg / total       1.00      1.00      1.00       315\n",
      "\n"
     ]
    },
    {
     "name": "stderr",
     "output_type": "stream",
     "text": [
      "/usr/local/Cellar/python3/3.6.4_2/Frameworks/Python.framework/Versions/3.6/lib/python3.6/site-packages/sklearn/utils/validation.py:578: DataConversionWarning: A column-vector y was passed when a 1d array was expected. Please change the shape of y to (n_samples, ), for example using ravel().\n",
      "  y = column_or_1d(y, warn=True)\n"
     ]
    }
   ],
   "source": [
    "logistic_regression.fit(x_train, y_train)\n",
    "y_res = logistic_regression.predict(x_train)\n",
    "\n",
    "print(accuracy_score(y_train, y_res))\n",
    "print(classification_report(y_train, y_res))"
   ]
  },
  {
   "cell_type": "code",
   "execution_count": 348,
   "metadata": {},
   "outputs": [
    {
     "name": "stdout",
     "output_type": "stream",
     "text": [
      "Confusion matrx for training set\n"
     ]
    },
    {
     "data": {
      "image/png": "[encoded data removed]",
      "text/plain": [
       "<matplotlib.figure.Figure at 0x1238f1160>"
      ]
     },
     "metadata": {},
     "output_type": "display_data"
    }
   ],
   "source": [
    "plot_parameters(5, 5)\n",
    "cm = confusion_matrix(y_train, y_res)\n",
    "np.set_printoptions(precision=1)\n",
    "\n",
    "print(\"Confusion matrx for training set\")\n",
    "plot_confusion_matrix(cm)"
   ]
  },
  {
   "cell_type": "markdown",
   "metadata": {},
   "source": [
    "### Linear Support Vector Classifier "
   ]
  },
  {
   "cell_type": "code",
   "execution_count": 351,
   "metadata": {
    "scrolled": false
   },
   "outputs": [
    {
     "name": "stdout",
     "output_type": "stream",
     "text": [
      "1.0\n",
      "             precision    recall  f1-score   support\n",
      "\n",
      "          0       1.00      1.00      1.00        72\n",
      "          1       1.00      1.00      1.00        65\n",
      "          2       1.00      1.00      1.00        60\n",
      "          3       1.00      1.00      1.00        52\n",
      "          4       1.00      1.00      1.00        66\n",
      "\n",
      "avg / total       1.00      1.00      1.00       315\n",
      "\n"
     ]
    },
    {
     "name": "stderr",
     "output_type": "stream",
     "text": [
      "/usr/local/Cellar/python3/3.6.4_2/Frameworks/Python.framework/Versions/3.6/lib/python3.6/site-packages/sklearn/utils/validation.py:578: DataConversionWarning: A column-vector y was passed when a 1d array was expected. Please change the shape of y to (n_samples, ), for example using ravel().\n",
      "  y = column_or_1d(y, warn=True)\n"
     ]
    }
   ],
   "source": [
    "from sklearn import svm\n",
    "\n",
    "svm_model = svm.SVC(C = 1.0)\n",
    "svm_model.fit(x_train, y_train)\n",
    "svc_predicted = svm_model.predict(x_train)\n",
    "\n",
    "print(accuracy_score(y_train, svc_predicted))\n",
    "print(classification_report(y_train, svc_predicted))"
   ]
  },
  {
   "cell_type": "code",
   "execution_count": 350,
   "metadata": {},
   "outputs": [
    {
     "name": "stdout",
     "output_type": "stream",
     "text": [
      "Confusion matrx for training set\n"
     ]
    },
    {
     "data": {
      "image/png": "[encoded data removed]",
      "text/plain": [
       "<matplotlib.figure.Figure at 0x12341fb70>"
      ]
     },
     "metadata": {},
     "output_type": "display_data"
    }
   ],
   "source": [
    "plot_parameters(5, 5)\n",
    "cm = confusion_matrix(y_train, svc_predicted)\n",
    "np.set_printoptions(precision=1)\n",
    "\n",
    "print(\"Confusion matrx for training set\")\n",
    "plot_confusion_matrix(cm)"
   ]
  },
  {
   "cell_type": "markdown",
   "metadata": {},
   "source": [
    "### Write to file function"
   ]
  },
  {
   "cell_type": "code",
   "execution_count": null,
   "metadata": {},
   "outputs": [],
   "source": [
    "def write_to_file(df, path):\n",
    "    df.to_csv(path, encoding='utf-8', index=False)"
   ]
  },
  {
   "cell_type": "markdown",
   "metadata": {},
   "source": [
    "### Final results to a file 'PredictedClasses.csv' "
   ]
  },
  {
   "cell_type": "code",
   "execution_count": 354,
   "metadata": {},
   "outputs": [
    {
     "name": "stdout",
     "output_type": "stream",
     "text": [
      "[2 0 2 0 0 0 2 0 4 1 4 3 3 2 0 4 2 4 3 3 4 1 2 1 4 2 3 2 0 1 1 1 3 1 2 4 2\n",
      " 3 1 4 0 0 1 1 3 0 3 4 3 4]\n"
     ]
    }
   ],
   "source": [
    "to_clasify = pd.read_csv('../multiclass/XToClassify.csv', header=None)\n",
    "X = select_columns(to_clasify, [421, 429, 250])\n",
    "y_final_res = svm_model.predict(X)\n",
    "\n",
    "print(y_final_res)\n",
    "write_to_file(pd.DataFrame([y_final_res]), \"../multiClassTask/PredictedClasses.csv\")"
   ]
  }
 ],
 "metadata": {
  "kernelspec": {
   "display_name": "Python 3",
   "language": "python",
   "name": "python3"
  },
  "language_info": {
   "codemirror_mode": {
    "name": "ipython",
    "version": 3
   },
   "file_extension": ".py",
   "mimetype": "text/x-python",
   "name": "python",
   "nbconvert_exporter": "python",
   "pygments_lexer": "ipython3",
   "version": "3.6.4"
  }
 },
 "nbformat": 4,
 "nbformat_minor": 2
}
